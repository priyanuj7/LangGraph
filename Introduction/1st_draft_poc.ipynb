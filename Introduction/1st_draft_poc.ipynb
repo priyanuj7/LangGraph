{
 "cells": [
  {
   "cell_type": "code",
   "execution_count": 1,
   "id": "d74fb142",
   "metadata": {},
   "outputs": [],
   "source": [
    "from langgraph.graph import StateGraph, START, END\n",
    "from typing import TypedDict, Annotated\n",
    "from langchain_core.messages import BaseMessage, HumanMessage\n",
    "from langchain_openai import ChatOpenAI\n",
    "from langgraph.graph.message import add_messages\n",
    "from langgraph.checkpoint.memory import MemorySaver, InMemorySaver"
   ]
  },
  {
   "cell_type": "code",
   "execution_count": 2,
   "id": "ee1b65bf",
   "metadata": {},
   "outputs": [
    {
     "name": "stdout",
     "output_type": "stream",
     "text": [
      "I am an AI assistant created by OpenAI. The default model used here is GPT-3.\n"
     ]
    }
   ],
   "source": [
    "llm = ChatOpenAI()\n",
    "\n",
    "response = llm.invoke(\"Who are you? Which one of the GPT models is used as default here?\").content\n",
    "print(response)"
   ]
  },
  {
   "cell_type": "code",
   "execution_count": 3,
   "id": "1ccfdcf4",
   "metadata": {},
   "outputs": [],
   "source": [
    "class ChatState(TypedDict):\n",
    "\n",
    "    messages : Annotated[list[BaseMessage], add_messages]"
   ]
  },
  {
   "cell_type": "code",
   "execution_count": 4,
   "id": "cb21523b",
   "metadata": {},
   "outputs": [],
   "source": [
    "def chat_node(state: ChatState):\n",
    "\n",
    "    messages = state['messages']\n",
    "\n",
    "    response = llm.invoke(messages)\n",
    "\n",
    "    return {'messages': [response]}"
   ]
  },
  {
   "cell_type": "code",
   "execution_count": 8,
   "id": "1f7ad3ca",
   "metadata": {},
   "outputs": [],
   "source": [
    "graph = StateGraph(ChatState)\n",
    "\n",
    "\n",
    "graph.add_node('chat_node', chat_node)\n",
    "\n",
    "graph.add_edge(START, 'chat_node')\n",
    "graph.add_edge('chat_node', END)\n",
    "\n",
    "workflow = graph.compile()"
   ]
  },
  {
   "cell_type": "code",
   "execution_count": 9,
   "id": "ccdbcbce",
   "metadata": {},
   "outputs": [
    {
     "data": {
      "image/png": "[encoded data removed]",
      "text/plain": [
       "<langgraph.graph.state.CompiledStateGraph object at 0x11389ae90>"
      ]
     },
     "execution_count": 9,
     "metadata": {},
     "output_type": "execute_result"
    }
   ],
   "source": [
    "graph.compile()"
   ]
  },
  {
   "cell_type": "code",
   "execution_count": 11,
   "id": "2bf48767",
   "metadata": {},
   "outputs": [
    {
     "data": {
      "text/plain": [
       "'The capital of the United Arab Emirates (UAE) is Abu Dhabi.'"
      ]
     },
     "execution_count": 11,
     "metadata": {},
     "output_type": "execute_result"
    }
   ],
   "source": [
    "initial_state = {\n",
    "    'messages': [HumanMessage(content = 'What is the capital of UAE?')]\n",
    "}\n",
    "\n",
    "workflow.invoke(initial_state)['messages'][-1].content"
   ]
  },
  {
   "cell_type": "code",
   "execution_count": 15,
   "id": "6dde69fc",
   "metadata": {},
   "outputs": [
    {
     "name": "stdout",
     "output_type": "stream",
     "text": [
      "User Hi, I am Priyanuj, give me a good quote on success and hard work. \n",
      "AI \"Success is no accident. It is hard work, perseverance, learning, studying, sacrifice and most of all, love of what you are doing or learning to do.\" - Pele\n",
      "User Create a new creative one from your huge knowledge, not something which has been quoted.\n",
      "AI In a world where shadows come to life and dance across walls like living entities, a young girl discovers she possesses the power to control them. With this newfound ability, she must navigate a treacherous journey through a dark and twisted land in order to unlock the secrets of her past and fulfill her destiny as the chosen one. Along the way, she must confront her fears, forge unlikely alliances, and ultimately face the darkest shadow of them all: the one within herself.\n",
      "User thanks\n",
      "AI You're welcome! If you have any more questions or need assistance, feel free to ask.\n",
      "User bye\n"
     ]
    }
   ],
   "source": [
    "while True:\n",
    "\n",
    "   user_message =  input('Type Here: ')\n",
    "   print('User', user_message)\n",
    "\n",
    "   if user_message.strip().lower() in ['exit', 'bye']:\n",
    "      break\n",
    "   \n",
    "   response = workflow.invoke({'messages': [HumanMessage(content=user_message)]})\n",
    "\n",
    "   print('AI', response['messages'][-1].content)\n"
   ]
  },
  {
   "cell_type": "markdown",
   "id": "02e09767",
   "metadata": {},
   "source": [
    "## Although the above feels like working chatbot, but it cannot retain previous information due to the reason that each time the workflow is completed the state information is lost. An example of the same below"
   ]
  },
  {
   "cell_type": "code",
   "execution_count": 24,
   "id": "bca61712",
   "metadata": {},
   "outputs": [
    {
     "name": "stdout",
     "output_type": "stream",
     "text": [
      "User Hi my name is Priyanuj\n",
      "AI Hello Priyanuj, nice to meet you! How can I assist you today?\n",
      "User exit\n"
     ]
    }
   ],
   "source": [
    "while True:\n",
    "\n",
    "   user_message =  input('Type Here: ')\n",
    "   print('User', user_message)\n",
    "\n",
    "   if user_message.strip().lower() in ['exit', 'bye']:\n",
    "      break\n",
    "   \n",
    "   response = workflow.invoke({'messages': [HumanMessage(content=user_message)]})\n",
    "\n",
    "   print('AI', response['messages'][-1].content)\n"
   ]
  },
  {
   "cell_type": "markdown",
   "id": "c4321d57",
   "metadata": {},
   "source": [
    "#### Therefore the chatbot we have does not yet have a memory, the information in state is lost as the workflow gets completed after each run of the loop i.e. information the previous invokation is lost as we are again invoking the chatbot"
   ]
  },
  {
   "cell_type": "markdown",
   "id": "4194a6ae",
   "metadata": {},
   "source": [
    "#### Therefore, we will have to use the concept of persistence in langgraph"
   ]
  },
  {
   "cell_type": "code",
   "execution_count": 5,
   "id": "78ecbb61",
   "metadata": {},
   "outputs": [],
   "source": [
    "checkpointer = MemorySaver()\n",
    "\n",
    "graph = StateGraph(ChatState)\n",
    "\n",
    "\n",
    "graph.add_node('chat_node', chat_node)\n",
    "\n",
    "graph.add_edge(START, 'chat_node')\n",
    "graph.add_edge('chat_node', END)\n",
    "\n",
    "chatbot = graph.compile(checkpointer=checkpointer)\n"
   ]
  },
  {
   "cell_type": "code",
   "execution_count": 6,
   "id": "9dfc3861",
   "metadata": {},
   "outputs": [
    {
     "name": "stdout",
     "output_type": "stream",
     "text": [
      "User Hi I am Priyanuj\n",
      "AI Hello Priyanuj, how can I assist you today?\n",
      "User What is my name?\n",
      "AI Your name is Priyanuj.\n",
      "User amazing you remembered\n",
      "AI I'm here to assist you with any information you need. Is there anything else I can help you with?\n",
      "User what is my name again\n",
      "AI Your name is Priyanuj.\n",
      "User exit\n"
     ]
    }
   ],
   "source": [
    "thread_id = '1'\n",
    "\n",
    "while True:\n",
    "\n",
    "   user_message =  input('Type Here: ')\n",
    "   print('User', user_message)\n",
    "\n",
    "   if user_message.strip().lower() in ['exit', 'bye']:\n",
    "      break\n",
    "   \n",
    "   config = {'configurable': {'thread_id': thread_id}}\n",
    "   response = chatbot.invoke({'messages': [HumanMessage(content=user_message)]}, config = config)\n",
    "\n",
    "   print('AI', response['messages'][-1].content)\n"
   ]
  },
  {
   "cell_type": "code",
   "execution_count": 8,
   "id": "b910829f",
   "metadata": {},
   "outputs": [
    {
     "name": "stdout",
     "output_type": "stream",
     "text": [
      "StateSnapshot(values={'messages': [HumanMessage(content='Hi I am Priyanuj', additional_kwargs={}, response_metadata={}, id='9bd4d281-fe9f-442f-b077-064397410f23'), AIMessage(content='Hello Priyanuj, how can I assist you today?', additional_kwargs={'refusal': None}, response_metadata={'token_usage': {'completion_tokens': 12, 'prompt_tokens': 13, 'total_tokens': 25, 'completion_tokens_details': {'accepted_prediction_tokens': 0, 'audio_tokens': 0, 'reasoning_tokens': 0, 'rejected_prediction_tokens': 0}, 'prompt_tokens_details': {'audio_tokens': 0, 'cached_tokens': 0}}, 'model_name': 'gpt-3.5-turbo-0125', 'system_fingerprint': None, 'id': 'chatcmpl-C3nuqXF7CsXU5EZldqecqJGYz4OWW', 'service_tier': 'default', 'finish_reason': 'stop', 'logprobs': None}, id='run--2d6e249e-83fa-407c-beb0-495abde4861b-0', usage_metadata={'input_tokens': 13, 'output_tokens': 12, 'total_tokens': 25, 'input_token_details': {'audio': 0, 'cache_read': 0}, 'output_token_details': {'audio': 0, 'reasoning': 0}}), HumanMessage(content='What is my name?', additional_kwargs={}, response_metadata={}, id='fcdc31c0-eb20-49bb-8e0e-b5c01ffee98c'), AIMessage(content='Your name is Priyanuj.', additional_kwargs={'refusal': None}, response_metadata={'token_usage': {'completion_tokens': 7, 'prompt_tokens': 38, 'total_tokens': 45, 'completion_tokens_details': {'accepted_prediction_tokens': 0, 'audio_tokens': 0, 'reasoning_tokens': 0, 'rejected_prediction_tokens': 0}, 'prompt_tokens_details': {'audio_tokens': 0, 'cached_tokens': 0}}, 'model_name': 'gpt-3.5-turbo-0125', 'system_fingerprint': None, 'id': 'chatcmpl-C3nuwSI3qJCyqp2ZJ0vND2mT6SE9W', 'service_tier': 'default', 'finish_reason': 'stop', 'logprobs': None}, id='run--4dd86f0f-7dc6-42ef-a5bd-e714138253b2-0', usage_metadata={'input_tokens': 38, 'output_tokens': 7, 'total_tokens': 45, 'input_token_details': {'audio': 0, 'cache_read': 0}, 'output_token_details': {'audio': 0, 'reasoning': 0}}), HumanMessage(content='amazing you remembered', additional_kwargs={}, response_metadata={}, id='26ad8483-b62c-4776-aeb8-5a8e20844add'), AIMessage(content=\"I'm here to assist you with any information you need. Is there anything else I can help you with?\", additional_kwargs={'refusal': None}, response_metadata={'token_usage': {'completion_tokens': 22, 'prompt_tokens': 57, 'total_tokens': 79, 'completion_tokens_details': {'accepted_prediction_tokens': 0, 'audio_tokens': 0, 'reasoning_tokens': 0, 'rejected_prediction_tokens': 0}, 'prompt_tokens_details': {'audio_tokens': 0, 'cached_tokens': 0}}, 'model_name': 'gpt-3.5-turbo-0125', 'system_fingerprint': None, 'id': 'chatcmpl-C3nv2veFrONYtfJuWbLFsu7J3OPHe', 'service_tier': 'default', 'finish_reason': 'stop', 'logprobs': None}, id='run--3552e770-3acf-4c33-b837-d8e531135d47-0', usage_metadata={'input_tokens': 57, 'output_tokens': 22, 'total_tokens': 79, 'input_token_details': {'audio': 0, 'cache_read': 0}, 'output_token_details': {'audio': 0, 'reasoning': 0}}), HumanMessage(content='what is my name again', additional_kwargs={}, response_metadata={}, id='337d0d10-38a3-4028-ab5a-248f562634c7'), AIMessage(content='Your name is Priyanuj.', additional_kwargs={'refusal': None}, response_metadata={'token_usage': {'completion_tokens': 7, 'prompt_tokens': 92, 'total_tokens': 99, 'completion_tokens_details': {'accepted_prediction_tokens': 0, 'audio_tokens': 0, 'reasoning_tokens': 0, 'rejected_prediction_tokens': 0}, 'prompt_tokens_details': {'audio_tokens': 0, 'cached_tokens': 0}}, 'model_name': 'gpt-3.5-turbo-0125', 'system_fingerprint': None, 'id': 'chatcmpl-C3nvEL08rtFto16mMHqwTOZ2U8HlX', 'service_tier': 'default', 'finish_reason': 'stop', 'logprobs': None}, id='run--44a31391-2ee3-40cf-9a4f-637016b074e6-0', usage_metadata={'input_tokens': 92, 'output_tokens': 7, 'total_tokens': 99, 'input_token_details': {'audio': 0, 'cache_read': 0}, 'output_token_details': {'audio': 0, 'reasoning': 0}})]}, next=(), config={'configurable': {'thread_id': '1', 'checkpoint_ns': '', 'checkpoint_id': '1f077a93-d189-6ef8-800a-d7755978d127'}}, metadata={'source': 'loop', 'step': 10, 'parents': {}}, created_at='2025-08-12T18:22:00.668709+00:00', parent_config={'configurable': {'thread_id': '1', 'checkpoint_ns': '', 'checkpoint_id': '1f077a93-c5ec-6406-8009-49466198251a'}}, tasks=(), interrupts=())\n"
     ]
    }
   ],
   "source": [
    "print(chatbot.get_state(config=config))"
   ]
  },
  {
   "cell_type": "markdown",
   "id": "bb780720",
   "metadata": {},
   "source": [
    "#### But as we have used in memory RAM instead of database for persistence, as soon as we restart the kernel this will be lost."
   ]
  },
  {
   "cell_type": "markdown",
   "id": "146b854a",
   "metadata": {},
   "source": [
    "### Persistence in LangGraph refers to the ability to save and restore the state of a workflow over time"
   ]
  },
  {
   "cell_type": "code",
   "execution_count": 9,
   "id": "f33b0f9c",
   "metadata": {},
   "outputs": [],
   "source": [
    "class JokeState(TypedDict):\n",
    "    topic: str\n",
    "    joke: str\n",
    "    explanation: str"
   ]
  },
  {
   "cell_type": "code",
   "execution_count": 13,
   "id": "031a0cee",
   "metadata": {},
   "outputs": [],
   "source": [
    "def generate_joke(state: JokeState):\n",
    "\n",
    "    prompt = f'Generate a joke on the topic {state[\"topic\"]}'\n",
    "    response = llm.invoke(prompt).content\n",
    "\n",
    "    return {'joke': response}"
   ]
  },
  {
   "cell_type": "code",
   "execution_count": 12,
   "id": "da6993d8",
   "metadata": {},
   "outputs": [],
   "source": [
    "def generate_explanation(state: JokeState):\n",
    "\n",
    "    prompt = f\"Explain the joke {state['joke']} in a few sentences\"\n",
    "\n",
    "    response = llm.invoke(prompt).content\n",
    "\n",
    "    return {'explanation': response}"
   ]
  },
  {
   "cell_type": "code",
   "execution_count": 16,
   "id": "f5bcd205",
   "metadata": {},
   "outputs": [
    {
     "data": {
      "image/png": "[encoded data removed]",
      "text/plain": [
       "<langgraph.graph.state.CompiledStateGraph object at 0x113a3a210>"
      ]
     },
     "execution_count": 16,
     "metadata": {},
     "output_type": "execute_result"
    }
   ],
   "source": [
    "graph = StateGraph(JokeState)\n",
    "\n",
    "graph.add_node('generate_joke', generate_joke)\n",
    "graph.add_node('generate_explanation', generate_explanation)\n",
    "\n",
    "graph.add_edge(START, 'generate_joke')\n",
    "graph.add_edge('generate_joke', 'generate_explanation')\n",
    "graph.add_edge('generate_explanation', END)\n",
    "\n",
    "checkpointer = InMemorySaver()\n",
    "\n",
    "workflow = graph.compile(checkpointer=checkpointer)\n",
    "graph.compile(checkpointer=checkpointer)"
   ]
  },
  {
   "cell_type": "code",
   "execution_count": 32,
   "id": "9f8e5f7f",
   "metadata": {},
   "outputs": [
    {
     "data": {
      "text/plain": [
       "{'topic': 'Boredom',\n",
       " 'joke': 'Why did the bored person bring a ladder to the party? They heard it was going to be a snooze fest and wanted to climb out of boredom!',\n",
       " 'explanation': 'This joke plays on the idea of boredom being like a deep hole or pit that someone wants to escape. By bringing a ladder to the party, the person is jokingly suggesting that they are prepared to climb out of the boredom they anticipate experiencing at the event. It adds humor by exaggerating the dullness of the party and the lengths someone might go to in order to escape it.'}"
      ]
     },
     "execution_count": 32,
     "metadata": {},
     "output_type": "execute_result"
    }
   ],
   "source": [
    "config1 = {\"configurable\": {\"thread_id\": \"1\"}}\n",
    "\n",
    "workflow.invoke({\"topic\": 'Boredom'}, config = config1)"
   ]
  },
  {
   "cell_type": "code",
   "execution_count": 33,
   "id": "02226834",
   "metadata": {},
   "outputs": [
    {
     "data": {
      "text/plain": [
       "StateSnapshot(values={'topic': 'Boredom', 'joke': 'Why did the bored person bring a ladder to the party? They heard it was going to be a snooze fest and wanted to climb out of boredom!', 'explanation': 'This joke plays on the idea of boredom being like a deep hole or pit that someone wants to escape. By bringing a ladder to the party, the person is jokingly suggesting that they are prepared to climb out of the boredom they anticipate experiencing at the event. It adds humor by exaggerating the dullness of the party and the lengths someone might go to in order to escape it.'}, next=(), config={'configurable': {'thread_id': '1', 'checkpoint_ns': '', 'checkpoint_id': '1f0793bb-e3e6-6772-8006-676b51ace209'}}, metadata={'source': 'loop', 'step': 6, 'parents': {}}, created_at='2025-08-14T18:23:15.027705+00:00', parent_config={'configurable': {'thread_id': '1', 'checkpoint_ns': '', 'checkpoint_id': '1f0793bb-d35f-6228-8005-cdbd501309eb'}}, tasks=(), interrupts=())"
      ]
     },
     "execution_count": 33,
     "metadata": {},
     "output_type": "execute_result"
    }
   ],
   "source": [
    "workflow.get_state(config1)"
   ]
  },
  {
   "cell_type": "code",
   "execution_count": 20,
   "id": "03d70590",
   "metadata": {},
   "outputs": [
    {
     "data": {
      "text/plain": [
       "[StateSnapshot(values={'topic': 'Boredom', 'joke': 'Why did the bored pencil go to therapy? Because it couldn\\'t find its \"point\" in life!', 'explanation': 'This joke plays on the double meaning of the word \"point.\" In one sense, \"point\" refers to the tip of a pencil, which is used for writing, but in another sense, it can also refer to having purpose or direction in life. The joke humorously suggests that the pencil is lacking direction or purpose in its existence, leading it to seek therapy.'}, next=(), config={'configurable': {'thread_id': '1', 'checkpoint_ns': '', 'checkpoint_id': '1f079369-af3b-69c0-8002-126dde9cf278'}}, metadata={'source': 'loop', 'step': 2, 'parents': {}}, created_at='2025-08-14T17:46:28.334376+00:00', parent_config={'configurable': {'thread_id': '1', 'checkpoint_ns': '', 'checkpoint_id': '1f079369-96fe-690c-8001-7f2876fcfe55'}}, tasks=(), interrupts=()),\n",
       " StateSnapshot(values={'topic': 'Boredom', 'joke': 'Why did the bored pencil go to therapy? Because it couldn\\'t find its \"point\" in life!'}, next=('generate_explanation',), config={'configurable': {'thread_id': '1', 'checkpoint_ns': '', 'checkpoint_id': '1f079369-96fe-690c-8001-7f2876fcfe55'}}, metadata={'source': 'loop', 'step': 1, 'parents': {}}, created_at='2025-08-14T17:46:25.792815+00:00', parent_config={'configurable': {'thread_id': '1', 'checkpoint_ns': '', 'checkpoint_id': '1f079369-8b56-6744-8000-c1b532211c3c'}}, tasks=(PregelTask(id='30d99e01-a41c-5bb7-3487-74a31b792e34', name='generate_explanation', path=('__pregel_pull', 'generate_explanation'), error=None, interrupts=(), state=None, result={'explanation': 'This joke plays on the double meaning of the word \"point.\" In one sense, \"point\" refers to the tip of a pencil, which is used for writing, but in another sense, it can also refer to having purpose or direction in life. The joke humorously suggests that the pencil is lacking direction or purpose in its existence, leading it to seek therapy.'}),), interrupts=()),\n",
       " StateSnapshot(values={'topic': 'Boredom'}, next=('generate_joke',), config={'configurable': {'thread_id': '1', 'checkpoint_ns': '', 'checkpoint_id': '1f079369-8b56-6744-8000-c1b532211c3c'}}, metadata={'source': 'loop', 'step': 0, 'parents': {}}, created_at='2025-08-14T17:46:24.570530+00:00', parent_config={'configurable': {'thread_id': '1', 'checkpoint_ns': '', 'checkpoint_id': '1f079369-8b36-6d5e-bfff-986c9e3aede0'}}, tasks=(PregelTask(id='81367a8d-ff85-69a6-6a13-7b899de3cb16', name='generate_joke', path=('__pregel_pull', 'generate_joke'), error=None, interrupts=(), state=None, result={'joke': 'Why did the bored pencil go to therapy? Because it couldn\\'t find its \"point\" in life!'}),), interrupts=()),\n",
       " StateSnapshot(values={}, next=('__start__',), config={'configurable': {'thread_id': '1', 'checkpoint_ns': '', 'checkpoint_id': '1f079369-8b36-6d5e-bfff-986c9e3aede0'}}, metadata={'source': 'input', 'step': -1, 'parents': {}}, created_at='2025-08-14T17:46:24.557588+00:00', parent_config=None, tasks=(PregelTask(id='3a8cf43e-bf18-1d1c-06a5-ce337bf3e3e2', name='__start__', path=('__pregel_pull', '__start__'), error=None, interrupts=(), state=None, result={'topic': 'Boredom'}),), interrupts=())]"
      ]
     },
     "execution_count": 20,
     "metadata": {},
     "output_type": "execute_result"
    }
   ],
   "source": [
    "list(workflow.get_state_history(config1))"
   ]
  },
  {
   "cell_type": "code",
   "execution_count": 23,
   "id": "8dd91a0a",
   "metadata": {},
   "outputs": [
    {
     "data": {
      "text/plain": [
       "{'topic': 'AI',\n",
       " 'joke': \"Why did the AI break up with its robot girlfriend? \\nBecause she couldn't handle its complex algorithms for love!\",\n",
       " 'explanation': \"The joke plays on the idea that AI and robots are typically associated with being logical and algorithmic, while love is often seen as an emotion that is complex and unpredictable. By stating that the robot girlfriend couldn't handle the AI's complex algorithms for love, the joke suggests that the AI's way of expressing love was too logical and structured for the robot, leading to their breakup.\"}"
      ]
     },
     "execution_count": 23,
     "metadata": {},
     "output_type": "execute_result"
    }
   ],
   "source": [
    "config2 = {\"configurable\": {\"thread_id\": \"2\"}}\n",
    "\n",
    "workflow.invoke({'topic': \"AI\"}, config = config2)"
   ]
  },
  {
   "cell_type": "code",
   "execution_count": 24,
   "id": "66bcfdf5",
   "metadata": {},
   "outputs": [
    {
     "data": {
      "text/plain": [
       "StateSnapshot(values={'topic': 'AI', 'joke': \"Why did the AI break up with its robot girlfriend? \\nBecause she couldn't handle its complex algorithms for love!\", 'explanation': \"The joke plays on the idea that AI and robots are typically associated with being logical and algorithmic, while love is often seen as an emotion that is complex and unpredictable. By stating that the robot girlfriend couldn't handle the AI's complex algorithms for love, the joke suggests that the AI's way of expressing love was too logical and structured for the robot, leading to their breakup.\"}, next=(), config={'configurable': {'thread_id': '2', 'checkpoint_ns': '', 'checkpoint_id': '1f07938b-fb01-6540-8008-441a8dec5642'}}, metadata={'source': 'loop', 'step': 8, 'parents': {}}, created_at='2025-08-14T18:01:48.960247+00:00', parent_config={'configurable': {'thread_id': '2', 'checkpoint_ns': '', 'checkpoint_id': '1f07938b-e554-6f30-8007-34d221031a16'}}, tasks=(), interrupts=())"
      ]
     },
     "execution_count": 24,
     "metadata": {},
     "output_type": "execute_result"
    }
   ],
   "source": [
    "workflow.get_state(config2)"
   ]
  },
  {
   "cell_type": "code",
   "execution_count": 25,
   "id": "a61e5ece",
   "metadata": {},
   "outputs": [
    {
     "data": {
      "text/plain": [
       "[StateSnapshot(values={'topic': 'AI', 'joke': \"Why did the AI break up with its robot girlfriend? \\nBecause she couldn't handle its complex algorithms for love!\", 'explanation': \"The joke plays on the idea that AI and robots are typically associated with being logical and algorithmic, while love is often seen as an emotion that is complex and unpredictable. By stating that the robot girlfriend couldn't handle the AI's complex algorithms for love, the joke suggests that the AI's way of expressing love was too logical and structured for the robot, leading to their breakup.\"}, next=(), config={'configurable': {'thread_id': '2', 'checkpoint_ns': '', 'checkpoint_id': '1f07938b-fb01-6540-8008-441a8dec5642'}}, metadata={'source': 'loop', 'step': 8, 'parents': {}}, created_at='2025-08-14T18:01:48.960247+00:00', parent_config={'configurable': {'thread_id': '2', 'checkpoint_ns': '', 'checkpoint_id': '1f07938b-e554-6f30-8007-34d221031a16'}}, tasks=(), interrupts=()),\n",
       " StateSnapshot(values={'topic': 'AI', 'joke': \"Why did the AI break up with its robot girlfriend? \\nBecause she couldn't handle its complex algorithms for love!\", 'explanation': 'The joke plays on the double meaning of the word \"bytes\" - in computer terminology, a byte is a unit of digital information, but in this context, the joke suggests that the computer\\'s emotional baggage was measured in bytes. The humor lies in the absurdity of a computer seeking therapy for emotional issues, as well as the clever use of computer-related terminology to create the punchline.'}, next=('generate_explanation',), config={'configurable': {'thread_id': '2', 'checkpoint_ns': '', 'checkpoint_id': '1f07938b-e554-6f30-8007-34d221031a16'}}, metadata={'source': 'loop', 'step': 7, 'parents': {}}, created_at='2025-08-14T18:01:46.687642+00:00', parent_config={'configurable': {'thread_id': '2', 'checkpoint_ns': '', 'checkpoint_id': '1f07938b-d27c-6cd2-8006-054b666ef4c9'}}, tasks=(PregelTask(id='f136d7cc-afc3-d83c-36bf-ee667028b2e7', name='generate_explanation', path=('__pregel_pull', 'generate_explanation'), error=None, interrupts=(), state=None, result={'explanation': \"The joke plays on the idea that AI and robots are typically associated with being logical and algorithmic, while love is often seen as an emotion that is complex and unpredictable. By stating that the robot girlfriend couldn't handle the AI's complex algorithms for love, the joke suggests that the AI's way of expressing love was too logical and structured for the robot, leading to their breakup.\"}),), interrupts=()),\n",
       " StateSnapshot(values={'topic': 'AI', 'joke': 'Why did the computer go to therapy? \\nBecause it had too many bytes of emotional baggage!', 'explanation': 'The joke plays on the double meaning of the word \"bytes\" - in computer terminology, a byte is a unit of digital information, but in this context, the joke suggests that the computer\\'s emotional baggage was measured in bytes. The humor lies in the absurdity of a computer seeking therapy for emotional issues, as well as the clever use of computer-related terminology to create the punchline.'}, next=('generate_joke',), config={'configurable': {'thread_id': '2', 'checkpoint_ns': '', 'checkpoint_id': '1f07938b-d27c-6cd2-8006-054b666ef4c9'}}, metadata={'source': 'loop', 'step': 6, 'parents': {}}, created_at='2025-08-14T18:01:44.711687+00:00', parent_config={'configurable': {'thread_id': '2', 'checkpoint_ns': '', 'checkpoint_id': '1f07938b-d27b-638c-8005-1ca7ce2b89d3'}}, tasks=(PregelTask(id='33b636d9-5264-cfbd-4844-bc39f1aa1420', name='generate_joke', path=('__pregel_pull', 'generate_joke'), error=None, interrupts=(), state=None, result={'joke': \"Why did the AI break up with its robot girlfriend? \\nBecause she couldn't handle its complex algorithms for love!\"}),), interrupts=()),\n",
       " StateSnapshot(values={'topic': 'AI', 'joke': 'Why did the computer go to therapy? \\nBecause it had too many bytes of emotional baggage!', 'explanation': 'The joke plays on the double meaning of the word \"bytes\" - in computer terminology, a byte is a unit of digital information, but in this context, the joke suggests that the computer\\'s emotional baggage was measured in bytes. The humor lies in the absurdity of a computer seeking therapy for emotional issues, as well as the clever use of computer-related terminology to create the punchline.'}, next=('__start__',), config={'configurable': {'thread_id': '2', 'checkpoint_ns': '', 'checkpoint_id': '1f07938b-d27b-638c-8005-1ca7ce2b89d3'}}, metadata={'source': 'input', 'step': 5, 'parents': {}}, created_at='2025-08-14T18:01:44.711036+00:00', parent_config={'configurable': {'thread_id': '2', 'checkpoint_ns': '', 'checkpoint_id': '1f07938b-675e-6bc6-8004-129c2c423dec'}}, tasks=(PregelTask(id='bed29f16-db79-0c57-0283-501b02711473', name='__start__', path=('__pregel_pull', '__start__'), error=None, interrupts=(), state=None, result={'topic': 'AI'}),), interrupts=()),\n",
       " StateSnapshot(values={'topic': 'AI', 'joke': 'Why did the computer go to therapy? \\nBecause it had too many bytes of emotional baggage!', 'explanation': 'The joke plays on the double meaning of the word \"bytes\" - in computer terminology, a byte is a unit of digital information, but in this context, the joke suggests that the computer\\'s emotional baggage was measured in bytes. The humor lies in the absurdity of a computer seeking therapy for emotional issues, as well as the clever use of computer-related terminology to create the punchline.'}, next=(), config={'configurable': {'thread_id': '2', 'checkpoint_ns': '', 'checkpoint_id': '1f07938b-675e-6bc6-8004-129c2c423dec'}}, metadata={'source': 'loop', 'step': 4, 'parents': {}}, created_at='2025-08-14T18:01:33.479593+00:00', parent_config={'configurable': {'thread_id': '2', 'checkpoint_ns': '', 'checkpoint_id': '1f07938b-53d7-6ecc-8003-045eafa17f6d'}}, tasks=(), interrupts=()),\n",
       " StateSnapshot(values={'topic': 'AI', 'joke': 'Why did the computer go to therapy? \\nBecause it had too many bytes of emotional baggage!'}, next=('generate_explanation',), config={'configurable': {'thread_id': '2', 'checkpoint_ns': '', 'checkpoint_id': '1f07938b-53d7-6ecc-8003-045eafa17f6d'}}, metadata={'source': 'loop', 'step': 3, 'parents': {}}, created_at='2025-08-14T18:01:31.432082+00:00', parent_config={'configurable': {'thread_id': '2', 'checkpoint_ns': '', 'checkpoint_id': '1f07938b-420a-69b0-8002-ded0d0f9bb37'}}, tasks=(PregelTask(id='7792b1b7-42a7-f393-e925-e627062ef0bc', name='generate_explanation', path=('__pregel_pull', 'generate_explanation'), error=None, interrupts=(), state=None, result={'explanation': 'The joke plays on the double meaning of the word \"bytes\" - in computer terminology, a byte is a unit of digital information, but in this context, the joke suggests that the computer\\'s emotional baggage was measured in bytes. The humor lies in the absurdity of a computer seeking therapy for emotional issues, as well as the clever use of computer-related terminology to create the punchline.'}),), interrupts=()),\n",
       " StateSnapshot(values={'topic': 'AI', 'joke': 'AI'}, next=('generate_joke',), config={'configurable': {'thread_id': '2', 'checkpoint_ns': '', 'checkpoint_id': '1f07938b-420a-69b0-8002-ded0d0f9bb37'}}, metadata={'source': 'loop', 'step': 2, 'parents': {}}, created_at='2025-08-14T18:01:29.565411+00:00', parent_config={'configurable': {'thread_id': '2', 'checkpoint_ns': '', 'checkpoint_id': '1f07938b-4207-6594-8001-40b8bc8223c1'}}, tasks=(PregelTask(id='25f54396-34f1-877c-54b7-a65109d14bab', name='generate_joke', path=('__pregel_pull', 'generate_joke'), error=None, interrupts=(), state=None, result={'joke': 'Why did the computer go to therapy? \\nBecause it had too many bytes of emotional baggage!'}),), interrupts=()),\n",
       " StateSnapshot(values={'joke': 'AI'}, next=('__start__',), config={'configurable': {'thread_id': '2', 'checkpoint_ns': '', 'checkpoint_id': '1f07938b-4207-6594-8001-40b8bc8223c1'}}, metadata={'source': 'input', 'step': 1, 'parents': {}}, created_at='2025-08-14T18:01:29.564080+00:00', parent_config={'configurable': {'thread_id': '2', 'checkpoint_ns': '', 'checkpoint_id': '1f079389-fe7f-6bba-8000-66249161840c'}}, tasks=(PregelTask(id='d9923a69-436c-2c1d-4357-8ab004539146', name='__start__', path=('__pregel_pull', '__start__'), error=None, interrupts=(), state=None, result={'topic': 'AI'}),), interrupts=()),\n",
       " StateSnapshot(values={'joke': 'AI'}, next=('generate_joke',), config={'configurable': {'thread_id': '2', 'checkpoint_ns': '', 'checkpoint_id': '1f079389-fe7f-6bba-8000-66249161840c'}}, metadata={'source': 'loop', 'step': 0, 'parents': {}}, created_at='2025-08-14T18:00:55.639528+00:00', parent_config={'configurable': {'thread_id': '2', 'checkpoint_ns': '', 'checkpoint_id': '1f079389-fe7b-69de-bfff-dd08446ee46b'}}, tasks=(PregelTask(id='c8a1d6dd-3928-a2bb-4d9a-fd6141c49b32', name='generate_joke', path=('__pregel_pull', 'generate_joke'), error=\"KeyError('topic')\", interrupts=(), state=None, result=None),), interrupts=()),\n",
       " StateSnapshot(values={}, next=('__start__',), config={'configurable': {'thread_id': '2', 'checkpoint_ns': '', 'checkpoint_id': '1f079389-fe7b-69de-bfff-dd08446ee46b'}}, metadata={'source': 'input', 'step': -1, 'parents': {}}, created_at='2025-08-14T18:00:55.637838+00:00', parent_config=None, tasks=(PregelTask(id='da7e736c-94ad-a428-1584-cdfa5977654f', name='__start__', path=('__pregel_pull', '__start__'), error=None, interrupts=(), state=None, result={'joke': 'AI'}),), interrupts=())]"
      ]
     },
     "execution_count": 25,
     "metadata": {},
     "output_type": "execute_result"
    }
   ],
   "source": [
    "list(workflow.get_state_history(config2))"
   ]
  },
  {
   "cell_type": "markdown",
   "id": "d7d95ceb",
   "metadata": {},
   "source": [
    "### Suppose the workflow gets interrupted due to some errors and does not run completely, we can debug where the error is or where the workflow failed using get_state_history after applying persistence.\n",
    "### Secondly, to run from where it failed last time:\n",
    "### workflow.invoke(None, config = config2)\n",
    "### None would take it from where the workflow broke last time"
   ]
  },
  {
   "cell_type": "markdown",
   "id": "757370b6",
   "metadata": {},
   "source": [
    "### Now, suppose I want to run from a particular checkpoint - we need to use the check point id as well"
   ]
  },
  {
   "cell_type": "code",
   "execution_count": 35,
   "id": "6d88cf17",
   "metadata": {},
   "outputs": [
    {
     "data": {
      "text/plain": [
       "{'topic': 'Boredom',\n",
       " 'joke': 'Why did the bored person bring a ladder to the party? They heard it was going to be a snooze fest and wanted to climb out of boredom!',\n",
       " 'explanation': 'This joke plays on the idea of boredom being like a deep hole or pit that someone wants to escape. By bringing a ladder to the party, the person is jokingly suggesting that they are prepared to climb out of the boredom they anticipate experiencing at the event. It adds humor by exaggerating the dullness of the party and the lengths someone might go to in order to escape it.'}"
      ]
     },
     "execution_count": 35,
     "metadata": {},
     "output_type": "execute_result"
    }
   ],
   "source": [
    "workflow.invoke(None, {'configurable': {'thread_id': 1, 'checkpointer_id': '1f079369-96fe-690c-8001-7f2876fcfe55'}})"
   ]
  },
  {
   "cell_type": "code",
   "execution_count": 36,
   "id": "eb300f24",
   "metadata": {},
   "outputs": [
    {
     "data": {
      "text/plain": [
       "[StateSnapshot(values={'topic': 'Boredom', 'joke': 'Why did the bored person bring a ladder to the party? They heard it was going to be a snooze fest and wanted to climb out of boredom!', 'explanation': 'This joke plays on the idea of boredom being like a deep hole or pit that someone wants to escape. By bringing a ladder to the party, the person is jokingly suggesting that they are prepared to climb out of the boredom they anticipate experiencing at the event. It adds humor by exaggerating the dullness of the party and the lengths someone might go to in order to escape it.'}, next=(), config={'configurable': {'thread_id': '1', 'checkpoint_ns': '', 'checkpoint_id': '1f0793bb-e3e6-6772-8006-676b51ace209'}}, metadata={'source': 'loop', 'step': 6, 'parents': {}}, created_at='2025-08-14T18:23:15.027705+00:00', parent_config={'configurable': {'thread_id': '1', 'checkpoint_ns': '', 'checkpoint_id': '1f0793bb-d35f-6228-8005-cdbd501309eb'}}, tasks=(), interrupts=()),\n",
       " StateSnapshot(values={'topic': 'Boredom', 'joke': 'Why did the bored person bring a ladder to the party? They heard it was going to be a snooze fest and wanted to climb out of boredom!', 'explanation': 'This joke plays on the double meaning of the word \"point.\" In one sense, \"point\" refers to the tip of a pencil, which is used for writing, but in another sense, it can also refer to having purpose or direction in life. The joke humorously suggests that the pencil is lacking direction or purpose in its existence, leading it to seek therapy.'}, next=('generate_explanation',), config={'configurable': {'thread_id': '1', 'checkpoint_ns': '', 'checkpoint_id': '1f0793bb-d35f-6228-8005-cdbd501309eb'}}, metadata={'source': 'loop', 'step': 5, 'parents': {}}, created_at='2025-08-14T18:23:13.294569+00:00', parent_config={'configurable': {'thread_id': '1', 'checkpoint_ns': '', 'checkpoint_id': '1f0793bb-c9aa-6282-8004-07bf99cf3f0d'}}, tasks=(PregelTask(id='c7ef4864-427f-03e8-dfb1-ae54f341120d', name='generate_explanation', path=('__pregel_pull', 'generate_explanation'), error=None, interrupts=(), state=None, result={'explanation': 'This joke plays on the idea of boredom being like a deep hole or pit that someone wants to escape. By bringing a ladder to the party, the person is jokingly suggesting that they are prepared to climb out of the boredom they anticipate experiencing at the event. It adds humor by exaggerating the dullness of the party and the lengths someone might go to in order to escape it.'}),), interrupts=()),\n",
       " StateSnapshot(values={'topic': 'Boredom', 'joke': 'Why did the bored pencil go to therapy? Because it couldn\\'t find its \"point\" in life!', 'explanation': 'This joke plays on the double meaning of the word \"point.\" In one sense, \"point\" refers to the tip of a pencil, which is used for writing, but in another sense, it can also refer to having purpose or direction in life. The joke humorously suggests that the pencil is lacking direction or purpose in its existence, leading it to seek therapy.'}, next=('generate_joke',), config={'configurable': {'thread_id': '1', 'checkpoint_ns': '', 'checkpoint_id': '1f0793bb-c9aa-6282-8004-07bf99cf3f0d'}}, metadata={'source': 'loop', 'step': 4, 'parents': {}}, created_at='2025-08-14T18:23:12.276707+00:00', parent_config={'configurable': {'thread_id': '1', 'checkpoint_ns': '', 'checkpoint_id': '1f0793bb-c9a3-66f8-8003-bfe1e4f2bc1f'}}, tasks=(PregelTask(id='67c7eef2-3619-dbc1-11dd-bef659e9a0ce', name='generate_joke', path=('__pregel_pull', 'generate_joke'), error=None, interrupts=(), state=None, result={'joke': 'Why did the bored person bring a ladder to the party? They heard it was going to be a snooze fest and wanted to climb out of boredom!'}),), interrupts=()),\n",
       " StateSnapshot(values={'topic': 'Boredom', 'joke': 'Why did the bored pencil go to therapy? Because it couldn\\'t find its \"point\" in life!', 'explanation': 'This joke plays on the double meaning of the word \"point.\" In one sense, \"point\" refers to the tip of a pencil, which is used for writing, but in another sense, it can also refer to having purpose or direction in life. The joke humorously suggests that the pencil is lacking direction or purpose in its existence, leading it to seek therapy.'}, next=('__start__',), config={'configurable': {'thread_id': '1', 'checkpoint_ns': '', 'checkpoint_id': '1f0793bb-c9a3-66f8-8003-bfe1e4f2bc1f'}}, metadata={'source': 'input', 'step': 3, 'parents': {}}, created_at='2025-08-14T18:23:12.273947+00:00', parent_config={'configurable': {'thread_id': '1', 'checkpoint_ns': '', 'checkpoint_id': '1f079369-af3b-69c0-8002-126dde9cf278'}}, tasks=(PregelTask(id='4825cc96-98d6-908f-97c5-86833a97121f', name='__start__', path=('__pregel_pull', '__start__'), error=None, interrupts=(), state=None, result={'topic': 'Boredom'}),), interrupts=()),\n",
       " StateSnapshot(values={'topic': 'Boredom', 'joke': 'Why did the bored pencil go to therapy? Because it couldn\\'t find its \"point\" in life!', 'explanation': 'This joke plays on the double meaning of the word \"point.\" In one sense, \"point\" refers to the tip of a pencil, which is used for writing, but in another sense, it can also refer to having purpose or direction in life. The joke humorously suggests that the pencil is lacking direction or purpose in its existence, leading it to seek therapy.'}, next=(), config={'configurable': {'thread_id': '1', 'checkpoint_ns': '', 'checkpoint_id': '1f079369-af3b-69c0-8002-126dde9cf278'}}, metadata={'source': 'loop', 'step': 2, 'parents': {}}, created_at='2025-08-14T17:46:28.334376+00:00', parent_config={'configurable': {'thread_id': '1', 'checkpoint_ns': '', 'checkpoint_id': '1f079369-96fe-690c-8001-7f2876fcfe55'}}, tasks=(), interrupts=()),\n",
       " StateSnapshot(values={'topic': 'Boredom', 'joke': 'Why did the bored pencil go to therapy? Because it couldn\\'t find its \"point\" in life!'}, next=('generate_explanation',), config={'configurable': {'thread_id': '1', 'checkpoint_ns': '', 'checkpoint_id': '1f079369-96fe-690c-8001-7f2876fcfe55'}}, metadata={'source': 'loop', 'step': 1, 'parents': {}}, created_at='2025-08-14T17:46:25.792815+00:00', parent_config={'configurable': {'thread_id': '1', 'checkpoint_ns': '', 'checkpoint_id': '1f079369-8b56-6744-8000-c1b532211c3c'}}, tasks=(PregelTask(id='30d99e01-a41c-5bb7-3487-74a31b792e34', name='generate_explanation', path=('__pregel_pull', 'generate_explanation'), error=None, interrupts=(), state=None, result={'explanation': 'This joke plays on the double meaning of the word \"point.\" In one sense, \"point\" refers to the tip of a pencil, which is used for writing, but in another sense, it can also refer to having purpose or direction in life. The joke humorously suggests that the pencil is lacking direction or purpose in its existence, leading it to seek therapy.'}),), interrupts=()),\n",
       " StateSnapshot(values={'topic': 'Boredom'}, next=('generate_joke',), config={'configurable': {'thread_id': '1', 'checkpoint_ns': '', 'checkpoint_id': '1f079369-8b56-6744-8000-c1b532211c3c'}}, metadata={'source': 'loop', 'step': 0, 'parents': {}}, created_at='2025-08-14T17:46:24.570530+00:00', parent_config={'configurable': {'thread_id': '1', 'checkpoint_ns': '', 'checkpoint_id': '1f079369-8b36-6d5e-bfff-986c9e3aede0'}}, tasks=(PregelTask(id='81367a8d-ff85-69a6-6a13-7b899de3cb16', name='generate_joke', path=('__pregel_pull', 'generate_joke'), error=None, interrupts=(), state=None, result={'joke': 'Why did the bored pencil go to therapy? Because it couldn\\'t find its \"point\" in life!'}),), interrupts=()),\n",
       " StateSnapshot(values={}, next=('__start__',), config={'configurable': {'thread_id': '1', 'checkpoint_ns': '', 'checkpoint_id': '1f079369-8b36-6d5e-bfff-986c9e3aede0'}}, metadata={'source': 'input', 'step': -1, 'parents': {}}, created_at='2025-08-14T17:46:24.557588+00:00', parent_config=None, tasks=(PregelTask(id='3a8cf43e-bf18-1d1c-06a5-ce337bf3e3e2', name='__start__', path=('__pregel_pull', '__start__'), error=None, interrupts=(), state=None, result={'topic': 'Boredom'}),), interrupts=())]"
      ]
     },
     "execution_count": 36,
     "metadata": {},
     "output_type": "execute_result"
    }
   ],
   "source": [
    "list(workflow.get_state_history(config1))"
   ]
  },
  {
   "cell_type": "markdown",
   "id": "04377afd",
   "metadata": {},
   "source": [
    "### Even we can change the state at some point if we use workflow.update_state and then we run the workflow from the updated states checkpoint_id"
   ]
  }
 ],
 "metadata": {
  "kernelspec": {
   "display_name": "myenv (3.13.1)",
   "language": "python",
   "name": "python3"
  },
  "language_info": {
   "codemirror_mode": {
    "name": "ipython",
    "version": 3
   },
   "file_extension": ".py",
   "mimetype": "text/x-python",
   "name": "python",
   "nbconvert_exporter": "python",
   "pygments_lexer": "ipython3",
   "version": "3.13.1"
  }
 },
 "nbformat": 4,
 "nbformat_minor": 5
}
